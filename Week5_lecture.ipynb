{
 "cells": [
  {
   "cell_type": "markdown",
   "metadata": {},
   "source": [
    "# Lecture notes from week 5\n",
    "Programming for the Behavioral Sciences\n",
    "\n",
    "An introduction to PsychoPy"
   ]
  },
  {
   "cell_type": "code",
   "execution_count": 3,
   "metadata": {
    "collapsed": true
   },
   "outputs": [],
   "source": [
    "from psychopy import visual, core, event\n",
    "import numpy as np"
   ]
  },
  {
   "cell_type": "markdown",
   "metadata": {},
   "source": [
    "### Example 1\n",
    "Create a window, and remove it after 1 s"
   ]
  },
  {
   "cell_type": "code",
   "execution_count": 3,
   "metadata": {},
   "outputs": [
    {
     "name": "stdout",
     "output_type": "stream",
     "text": [
      "4.5486 \tERROR \tavbin.dll failed to load. Try importing psychopy.visual\n",
      "  as the first library (before anything that uses scipy)\n",
      "  and make sure that avbin is installed.\n",
      "4.6202 \tWARNING \tMonitor specification not found. Creating a temporary one...\n"
     ]
    }
   ],
   "source": [
    "win = visual.Window()\n",
    "core.wait(1)\n",
    "win.close()"
   ]
  },
  {
   "cell_type": "markdown",
   "metadata": {
    "collapsed": true
   },
   "source": [
    "### Example 2\n",
    "A slightly more advanced example, where\n",
    " - A window is opened\n",
    " - A circle is shown until the participant presses any key"
   ]
  },
  {
   "cell_type": "code",
   "execution_count": 7,
   "metadata": {},
   "outputs": [
    {
     "name": "stdout",
     "output_type": "stream",
     "text": [
      "90099.3840 \tWARNING \tMonitor specification not found. Creating a temporary one...\n"
     ]
    }
   ],
   "source": [
    "# Create a window and a circle\n",
    "win = visual.Window() \n",
    "circle = visual.Circle(win, radius=0.1)\n",
    "\n",
    "# Show the circle until keypress\n",
    "circle.draw()\n",
    "win.flip()\n",
    "event.waitKeys()\n",
    "\n",
    "# Close the window\n",
    "win.close()"
   ]
  },
  {
   "cell_type": "markdown",
   "metadata": {},
   "source": [
    "### Example 3 - Reaction time test\n",
    "Press space as soon as you circle appears. Reaction times are stored."
   ]
  },
  {
   "cell_type": "code",
   "execution_count": 6,
   "metadata": {},
   "outputs": [
    {
     "name": "stdout",
     "output_type": "stream",
     "text": [
      "226.6021 \tWARNING \tMonitor specification not found. Creating a temporary one...\n",
      "[ 474.99505166  394.92946459  408.68613264  497.09427774  559.71820041]\n"
     ]
    }
   ],
   "source": [
    "# Parameters in the experiment\n",
    "nTrials = 5\n",
    "reaction_times = []\n",
    "\n",
    "# Create a window and the circle\n",
    "win = visual.Window() \n",
    "circle = visual.Circle(win, radius=0.1)\n",
    "\n",
    "# Run the trials\n",
    "for t in np.arange(nTrials):\n",
    "    \n",
    "    # Show an empty screen for 1 second\n",
    "    win.flip()\n",
    "    core.wait(1)\n",
    "    \n",
    "    # Show the circle until keypress  \n",
    "    circle.draw()\n",
    "    win.flip()\n",
    "    keypressed = False\n",
    "    t0 = core.getTime()\n",
    "    while not keypressed:  \n",
    "        k = event.getKeys()\n",
    "        if k:\n",
    "            reaction_times.append(core.getTime() - t0)\n",
    "            break\n",
    "\n",
    "# Close the window\n",
    "win.close()\n",
    "print(np.array(reaction_times) * 1000) # in ms"
   ]
  },
  {
   "cell_type": "markdown",
   "metadata": {
    "collapsed": true
   },
   "source": [
    "### Question from class\n",
    "How fast is one loop in  while/for loop?"
   ]
  },
  {
   "cell_type": "code",
   "execution_count": 17,
   "metadata": {},
   "outputs": [
    {
     "data": {
      "image/png": "[encoded data removed]",
      "text/plain": [
       "<matplotlib.figure.Figure at 0xd1d9400>"
      ]
     },
     "metadata": {},
     "output_type": "display_data"
    },
    {
     "name": "stdout",
     "output_type": "stream",
     "text": [
      "0.30 17.32\n"
     ]
    }
   ],
   "source": [
    "import time\n",
    "import matplotlib.pyplot as plt\n",
    "\n",
    "# Run nLoops iterations\n",
    "nLoops = 10000\n",
    "\n",
    "loop_times = []\n",
    "for i in range(nLoops):\n",
    "    loop_times.append(time.time())\n",
    "    \n",
    "# The difference between two values are the loop-times (in microseconds)\n",
    "loop_dur = np.diff(loop_times) * 1000000 \n",
    "\n",
    "# Plot the results as a histogram (in milliseconds). Set the axis to [-1, +1] ms\n",
    "plt.hist(loop_dur, bins=100, range = (-1, 1))\n",
    "plt.show()    \n",
    "\n",
    "# Compute the M \\pm SD of loop-time\n",
    "print('%.2f %.2f' % (np.mean(loop_dur), np.std(loop_dur)))"
   ]
  },
  {
   "cell_type": "markdown",
   "metadata": {},
   "source": [
    "Conclusion: The loop times are tiny; on average they are less than 1 microsecond."
   ]
  },
  {
   "cell_type": "code",
   "execution_count": null,
   "metadata": {
    "collapsed": true
   },
   "outputs": [],
   "source": []
  }
 ],
 "metadata": {
  "kernelspec": {
   "display_name": "Python [default]",
   "language": "python",
   "name": "python2"
  },
  "language_info": {
   "codemirror_mode": {
    "name": "ipython",
    "version": 2
   },
   "file_extension": ".py",
   "mimetype": "text/x-python",
   "name": "python",
   "nbconvert_exporter": "python",
   "pygments_lexer": "ipython2",
   "version": "2.7.13"
  }
 },
 "nbformat": 4,
 "nbformat_minor": 2
}
