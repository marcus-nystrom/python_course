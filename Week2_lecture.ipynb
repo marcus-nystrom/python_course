{
 "cells": [
  {
   "cell_type": "markdown",
   "metadata": {
    "slideshow": {
     "slide_type": "slide"
    }
   },
   "source": [
    "# Lecture notes from second week\n",
    "Programming for the Behavioral Sciences"
   ]
  },
  {
   "cell_type": "markdown",
   "metadata": {
    "collapsed": true
   },
   "source": [
    "Last week, basic concepts in Python were introducted. This week, functions will be introduced. A function is a piece of code that helps you to organize and re-use your code. We have already used many function in course, for instance, print() and range(). More information and examples of functions can be found here:\n",
    "https://www.tutorialspoint.com/python/python_functions.htm\n",
    "\n",
    "Let start with an example. This time, enter the code in the 'editor' window in Spyder, and press the green button shaped like a triangle to run your code. Any output of your code is shown in the iPython console."
   ]
  },
  {
   "cell_type": "markdown",
   "metadata": {},
   "source": [
    "### Functions\n",
    "Example: Assume that you have a long text, and you want to count the number of words with two letters. Further assume that this is a really important part of your research; you do it every day from many large bodies of text. This is how it can be done."
   ]
  },
  {
   "cell_type": "code",
   "execution_count": 5,
   "metadata": {
    "collapsed": false
   },
   "outputs": [
    {
     "name": "stdout",
     "output_type": "stream",
     "text": [
      "['This', 'is', 'a', 'rather', 'long', 'sentence.', 'I', 'want', 'to', 'find', 'the', 'number', 'of', 'two', 'word', 'letters']\n"
     ]
    }
   ],
   "source": [
    "# This is a sentence\n",
    "sentence = 'This is a rather long sentence. I want to find the number of two word letters'\n",
    "\n",
    "# This is the code you need to find the number of words of length 2 (e.g., is, to, and of)\n",
    "words = sentence.split(' ') # Split the sentence string into a list of words, the space between the \n",
    "                            # quotations marks means that the sentence is \n",
    "                            # split at every space character.\n",
    "                            # Using sentence.split(',') would instead divide the sentence at commas.\n",
    "print(words)"
   ]
  },
  {
   "cell_type": "code",
   "execution_count": 6,
   "metadata": {
    "collapsed": false
   },
   "outputs": [
    {
     "name": "stdout",
     "output_type": "stream",
     "text": [
      "3\n"
     ]
    }
   ],
   "source": [
    "# Not count the number of words of length 2\n",
    "nWords_len2 = 0           # We need this variable for word counting\n",
    "for word in words:        # Go through all the words in the list, one by one\n",
    "    if len(word) == 2:    # If the length of the word is equal to 2\n",
    "        nWords_len2 += 1  # This means increasing the value of nWords_len2 by +1. \n",
    "                          # Same as nWords_len2 = nWords_len2 + 1\n",
    "\n",
    "print(nWords_len2)        # There are three words with two letters (is, to, of)"
   ]
  },
  {
   "cell_type": "markdown",
   "metadata": {},
   "source": [
    "Since this is a task we do every day, wouldn't it be nice to have a way to perform this without re-typing all this code every time? Something like:"
   ]
  },
  {
   "cell_type": "raw",
   "metadata": {},
   "source": [
    "nWords_with_two_letters = find_len2_words(text_str) # text_str is my text string"
   ]
  },
  {
   "cell_type": "markdown",
   "metadata": {},
   "source": [
    "Now you can easily and quickly repeat the task. \n",
    "find_len2_words() is in fact a function. Let's look at how it is defined."
   ]
  },
  {
   "cell_type": "code",
   "execution_count": 7,
   "metadata": {
    "collapsed": true
   },
   "outputs": [],
   "source": [
    "def find_len2_words(input_text):\n",
    "    '''Returns the number of words containing two letters''' # This is called a doc-string\n",
    "    nWords = 0\n",
    "    for word in words:\n",
    "        if len(word) == 2:\n",
    "            nWords += 1\n",
    "            \n",
    "    return nWords   "
   ]
  },
  {
   "cell_type": "markdown",
   "metadata": {},
   "source": [
    "The function (and all functions) starts by def, followed by the name of the function and the input variables within parenthesis. In this case, there is one input variables, but there could be two or more.\n",
    "\n",
    "The next line contains a so-called 'doc [documentation] string', which tells the user what the functions does.\n",
    "\n",
    "At the end of the funtion, there is a 'return' argument. This is what the function outputs or return back. One could see a function as a 'black box', which provided an input returns an output. Many times, the programmer does not see the content of the box (the function), but can use it anyways. This is the case with the print()-function, for instance; we have used it many times, but we don't know what's 'under the hood'.\n",
    "\n",
    "![title](img/function_black_box.png)"
   ]
  },
  {
   "cell_type": "markdown",
   "metadata": {},
   "source": [
    "Now let's repeat the task to find the number of two letter words from 'sentence'-string, but now by using the function."
   ]
  },
  {
   "cell_type": "code",
   "execution_count": 6,
   "metadata": {
    "collapsed": false
   },
   "outputs": [
    {
     "name": "stdout",
     "output_type": "stream",
     "text": [
      "3\n"
     ]
    }
   ],
   "source": [
    "nWords_with_two_letters = find_len2_words(sentence)\n",
    "print(nWords_with_two_letters)"
   ]
  },
  {
   "cell_type": "markdown",
   "metadata": {},
   "source": [
    "We completed the task in just one line of code and got the same result! The function can easily be re-used and even shared with collegues in your community."
   ]
  },
  {
   "cell_type": "markdown",
   "metadata": {},
   "source": [
    "### Function keywords\n",
    "There may also be an interest in finding the number of words with other lengths, e.g., three or four letters. Let see how the above function can be generalized."
   ]
  },
  {
   "cell_type": "code",
   "execution_count": 8,
   "metadata": {
    "collapsed": true
   },
   "outputs": [],
   "source": [
    "def find_lenn_words(input_text, n=2):\n",
    "    '''Returns the number of words containing n letters. \n",
    "    If no input n is given, n = 2.\n",
    "    '''\n",
    "    nWords = 0\n",
    "    for word in words:\n",
    "        if len(word) == n:\n",
    "            nWords += 1\n",
    "            \n",
    "    return nWords  "
   ]
  },
  {
   "cell_type": "code",
   "execution_count": 10,
   "metadata": {
    "collapsed": false
   },
   "outputs": [
    {
     "name": "stdout",
     "output_type": "stream",
     "text": [
      "(3, 3, 2)\n"
     ]
    }
   ],
   "source": [
    "# Test the function\n",
    "my_input_text = sentence                        # borrow the sentence defined above as input\n",
    "nWords  = find_lenn_words(my_input_text)        # What happens if I don't specify the length n?\n",
    "nWords2 = find_lenn_words(my_input_text, n = 2) \n",
    "nWords6 = find_lenn_words(my_input_text, n = 6) \n",
    "\n",
    "# Print the results\n",
    "print(nWords, nWords2, nWords6)\n"
   ]
  },
  {
   "cell_type": "markdown",
   "metadata": {},
   "source": [
    "### Local and global variables\n",
    "Some variable are local to the function, i.e., they exist and can only be used inside that function 'box'. Global variables can be used both inside and outside the funtion."
   ]
  },
  {
   "cell_type": "code",
   "execution_count": 11,
   "metadata": {
    "collapsed": true
   },
   "outputs": [],
   "source": [
    "variable_definded_outside_function = 12\n",
    "\n",
    "\n",
    "def myfun1(a, b):\n",
    "    ''' Adds two number and returns the result'''\n",
    "    c = a + b\n",
    "    \n",
    "    # Test to print a variable defined outside of the function\n",
    "    print(variable_definded_outside_function)   # This works! The function can 'see' \n",
    "                                                # variables defined outside of the function\n",
    "    \n",
    "    return c"
   ]
  },
  {
   "cell_type": "code",
   "execution_count": 22,
   "metadata": {
    "collapsed": false
   },
   "outputs": [
    {
     "name": "stdout",
     "output_type": "stream",
     "text": [
      "12\n",
      "13\n",
      "9\n"
     ]
    }
   ],
   "source": [
    "# Try the function\n",
    "a1 = 5\n",
    "a2 = 4\n",
    "myres = myfun1(a1, a2)\n",
    "print(myres)"
   ]
  },
  {
   "cell_type": "markdown",
   "metadata": {},
   "source": [
    "What if I try to print the local variable 'a' outside of the function?"
   ]
  },
  {
   "cell_type": "code",
   "execution_count": 18,
   "metadata": {
    "collapsed": false
   },
   "outputs": [
    {
     "ename": "NameError",
     "evalue": "name 'a' is not defined",
     "output_type": "error",
     "traceback": [
      "\u001b[0;31m---------------------------------------------------------------------------\u001b[0m",
      "\u001b[0;31mNameError\u001b[0m                                 Traceback (most recent call last)",
      "\u001b[0;32m<ipython-input-18-c5a4f3535135>\u001b[0m in \u001b[0;36m<module>\u001b[0;34m()\u001b[0m\n\u001b[0;32m----> 1\u001b[0;31m \u001b[1;32mprint\u001b[0m\u001b[1;33m(\u001b[0m\u001b[0ma\u001b[0m\u001b[1;33m)\u001b[0m\u001b[1;33m\u001b[0m\u001b[0m\n\u001b[0m",
      "\u001b[0;31mNameError\u001b[0m: name 'a' is not defined"
     ]
    }
   ],
   "source": [
    "print(a) # a (and b and c) only exists inside the function (local scope), so I can print it here."
   ]
  },
  {
   "cell_type": "markdown",
   "metadata": {},
   "source": [
    "Consider the code below and try to understand why the output looks the way it does. "
   ]
  },
  {
   "cell_type": "code",
   "execution_count": 16,
   "metadata": {
    "collapsed": false
   },
   "outputs": [
    {
     "name": "stdout",
     "output_type": "stream",
     "text": [
      "(5, 'global', 'local', 'global')\n"
     ]
    }
   ],
   "source": [
    "x = 5  # Define a global variable x = 5\n",
    "\n",
    "def return_global():\n",
    "    '''Returns global variable'''\n",
    "    return x\n",
    "\n",
    "def modify_global():\n",
    "    '''Modifies global variable. '''\n",
    "    # A global variable can only be modified if it is defined as global within the function\n",
    "    global x \n",
    "    x = 'global'\n",
    "    return x\n",
    "\n",
    "def create_local():\n",
    "    '''Creates a local variable x'''\n",
    "    # The local variable 'x' knows nothing about the global variable 'x'.\n",
    "    x = 'local'\n",
    "    return x\n",
    "\n",
    "# Test the functions\n",
    "y0 = return_global() # Returns 5\n",
    "y1 = modify_global() # Returns 'global'\n",
    "y2 = create_local()  # Returns 'local'\n",
    "y3 = return_global() # Now returns 'global', why?\n",
    "\n",
    "print(y0, y1, y2, y3)"
   ]
  },
  {
   "cell_type": "markdown",
   "metadata": {},
   "source": [
    "### Introduction to Lab 2\n",
    "Implementing an event detector for eye tracking data, which consist of eye movements recorded at 1250 Hz from a person reading a text. An event detector finds prototypical patterns in the data known as fixations (when the eye is still) and saccades (when the eye moves fast). We will use the velocity of the eye movements to find the number and durations of the fixations."
   ]
  },
  {
   "cell_type": "code",
   "execution_count": 17,
   "metadata": {
    "collapsed": false
   },
   "outputs": [
    {
     "data": {
      "image/png": "[encoded data removed]",
      "text/plain": [
       "<matplotlib.figure.Figure at 0x440b1d0>"
      ]
     },
     "metadata": {},
     "output_type": "display_data"
    }
   ],
   "source": [
    "import pickle # pickle is a format python uses to store data\n",
    "import matplotlib.pyplot as plt # a library for plotting\n",
    "\n",
    "# Load data from pickle and plot them. Data are in a numpy array.\n",
    "# The pickle 'eye_velocity.p' is stored in a folder 'img' in the \n",
    "# same directory as the script containing this code.\n",
    "eye_velocity = pickle.load( open( \"img/eye_velocity.p\", \"rb\" ) )\n",
    "\n",
    "# Plot the data and annotate the plot\n",
    "plt.plot(eye_velocity) \n",
    "plt.xlabel('Samples')\n",
    "plt.ylabel('Velocity (deg/s)')\n",
    "plt.show()  "
   ]
  },
  {
   "cell_type": "code",
   "execution_count": 22,
   "metadata": {
    "collapsed": false
   },
   "outputs": [
    {
     "data": {
      "image/png": "[encoded data removed]",
      "text/plain": [
       "<matplotlib.figure.Figure at 0x88097b8>"
      ]
     },
     "metadata": {},
     "output_type": "display_data"
    }
   ],
   "source": [
    "# Zoom in on a smaller part of the data\n",
    "eye_velocity_short = eye_velocity[100:800]\n",
    "plt.plot(eye_velocity_short) \n",
    "plt.xlabel('Samples')\n",
    "plt.ylabel('Velocity (deg/s)')\n",
    "\n",
    "# Indicate fixations with interval shaded\n",
    "plt.axvspan(0, 140, color='y', alpha=0.5, lw=0)\n",
    "plt.axvspan(220, 350, color='y', alpha=0.5, lw=0)\n",
    "plt.axvspan(415, 515, color='y', alpha=0.5, lw=0)\n",
    "plt.axvspan(560, 700, color='y', alpha=0.5, lw=0)\n",
    "\n",
    "# Show the results\n",
    "plt.show() \n"
   ]
  },
  {
   "cell_type": "code",
   "execution_count": 24,
   "metadata": {
    "collapsed": false
   },
   "outputs": [
    {
     "data": {
      "image/png": "[encoded data removed]",
      "text/plain": [
       "<matplotlib.figure.Figure at 0x86d0fd0>"
      ]
     },
     "metadata": {},
     "output_type": "display_data"
    }
   ],
   "source": [
    "# Fixations are located where velocity < 30\n",
    "threshold = 30\n",
    "fixation_samples = (eye_velocity_short < threshold) * 1 # *1 to convert True / False to 1 / 0\n",
    "\n",
    "plt.plot(fixation_samples)\n",
    "plt.show()"
   ]
  },
  {
   "cell_type": "markdown",
   "metadata": {},
   "source": [
    "Now we have simplified the problem. Let's find the onsets (positions where the plot changes from 0->1) and offsets (positions where the plot changes from 1->0) of the fixations.\n"
   ]
  },
  {
   "cell_type": "code",
   "execution_count": 25,
   "metadata": {
    "collapsed": false
   },
   "outputs": [
    {
     "data": {
      "image/png": "[encoded data removed]",
      "text/plain": [
       "<matplotlib.figure.Figure at 0x75a3f60>"
      ]
     },
     "metadata": {},
     "output_type": "display_data"
    }
   ],
   "source": [
    "import numpy as np                  # Now we need numpy, so let's import it\n",
    "plt.plot(np.diff(fixation_samples)) # diff means to the the difference between two consecutive \n",
    "                                    # samples i - (i-1). [0, 1, 0] -> [1, -1]\n",
    "plt.show()"
   ]
  },
  {
   "cell_type": "markdown",
   "metadata": {
    "collapsed": true
   },
   "source": [
    "One problem remains: the first fixation onset and the last fixation offset were not found. We can solve this as follows."
   ]
  },
  {
   "cell_type": "code",
   "execution_count": 29,
   "metadata": {
    "collapsed": false
   },
   "outputs": [
    {
     "data": {
      "image/png": "[encoded data removed]",
      "text/plain": [
       "<matplotlib.figure.Figure at 0x89133c8>"
      ]
     },
     "metadata": {},
     "output_type": "display_data"
    }
   ],
   "source": [
    "fixation_samples_0 = np.hstack((0, fixation_samples, 0))\n",
    "plt.plot(np.diff(fixation_samples_0)) # diff means to the the difference between two consecutive \n",
    "                                    # samples i - (i-1). [0, 1, 0] -> [1, -1]\n",
    "plt.show()"
   ]
  },
  {
   "cell_type": "markdown",
   "metadata": {},
   "source": [
    "Now the problem is made even simpler. To find the number of fixation, we need to find the number of 1s (representing the onsets) or the number of -1s (representing the offsets). The duration of a fixation can be computed by taking the difference between offset and onset locations. To find out where in an array something happens, the 'where' function in numpy can be used. Note that the output is a tuple!"
   ]
  },
  {
   "cell_type": "code",
   "execution_count": 31,
   "metadata": {
    "collapsed": false
   },
   "outputs": [
    {
     "name": "stdout",
     "output_type": "stream",
     "text": [
      "(array([  0, 228, 410, 548], dtype=int64),)\n"
     ]
    }
   ],
   "source": [
    "# Find the fixation onsets\n",
    "fix_onsets = np.where(np.diff(fixation_samples_0) == 1)\n",
    "print(fix_onsets)"
   ]
  },
  {
   "cell_type": "markdown",
   "metadata": {},
   "source": [
    "Use the knowledge acquired so far to complete this weeks assignment!"
   ]
  },
  {
   "cell_type": "code",
   "execution_count": null,
   "metadata": {
    "collapsed": true
   },
   "outputs": [],
   "source": []
  }
 ],
 "metadata": {
  "kernelspec": {
   "display_name": "Python [default]",
   "language": "python",
   "name": "python2"
  },
  "language_info": {
   "codemirror_mode": {
    "name": "ipython",
    "version": 2
   },
   "file_extension": ".py",
   "mimetype": "text/x-python",
   "name": "python",
   "nbconvert_exporter": "python",
   "pygments_lexer": "ipython2",
   "version": "2.7.13"
  }
 },
 "nbformat": 4,
 "nbformat_minor": 0
}
