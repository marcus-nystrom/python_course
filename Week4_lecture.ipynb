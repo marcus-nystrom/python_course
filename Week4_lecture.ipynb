{
 "cells": [
  {
   "cell_type": "markdown",
   "metadata": {},
   "source": [
    "# Lecture notes from the fourth week¶\n",
    "Programming for the Behavioral Sciences\n",
    "\n",
    "A large part of running behavioural experiments concerns the preparation of stimuli, i.e., what you have your participants looking at. The goal of this week is to create stimuli for a visual search experiment where participants search for a target object among distractors (non-targets that distract you from finding the target). We want to create a stimulus image where we flexibly can control the background color of the image as well as the the color, shape, and size of the target and distractors. An example stimuli is shown here; the red triangle is the target and the blue dots are the distractors:\n",
    "\n",
    "<img src=\"img\\stimulus.png\" alt=\"Stimulus\" style=\"width:304px;height:228px;\">\n",
    "\n",
    "This week, we will use Matplotlib to generate the images. Next week PsychoPy will be used to accomplish the same task. The rest of the lectures in this course will be devoted to implement central parts of the experimental process in a visual search experiment: create stimuli, record data, and plot and analyze data."
   ]
  },
  {
   "cell_type": "markdown",
   "metadata": {
    "collapsed": true
   },
   "source": [
    "### Introduction to this week's exercise\n",
    "So what do we need to know before we can start building the stimuli?\n",
    "\n",
    "- Information about the background (size, color)\n",
    "- Information about the target (position, shape, color)\n",
    "- Information about the distractors (positions, shape, color)"
   ]
  },
  {
   "cell_type": "code",
   "execution_count": 1,
   "metadata": {},
   "outputs": [
    {
     "data": {
      "image/png": "[encoded data removed]",
      "text/plain": [
       "<Figure size 432x288 with 1 Axes>"
      ]
     },
     "metadata": {
      "needs_background": "light"
     },
     "output_type": "display_data"
    }
   ],
   "source": [
    "import numpy as np\n",
    "import matplotlib.pyplot as plt\n",
    "\n",
    "# A first attempt (we ignore the target for now)\n",
    "image_size = (1280, 1024)  # Size of background in pixels\n",
    "nDistractors = 10  # Number of distractors\n",
    "distractor_size = 500\n",
    "\n",
    "# Generate positions where to put the distractors\n",
    "xr = np.random.randint(0, image_size[0], nDistractors)\n",
    "yr = np.random.randint(0, image_size[1], nDistractors)\n",
    "\n",
    "plt.scatter(xr, yr, s=distractor_size ,c='b',marker='v')\n",
    "plt.axis([0, image_size[0], 0, image_size[1]])\n",
    "plt.show()"
   ]
  },
  {
   "cell_type": "markdown",
   "metadata": {},
   "source": [
    "Two problem are visible\n",
    " * The distractors overlap\n",
    " * Parts of a distractor can be outside of the plot\n",
    " \n",
    "One way to solve this is ensure that the distractors are always separated by a large enough distance to other distractors and to the image border."
   ]
  },
  {
   "cell_type": "code",
   "execution_count": 2,
   "metadata": {},
   "outputs": [
    {
     "data": {
      "image/png": "[encoded data removed]",
      "text/plain": [
       "<Figure size 432x288 with 1 Axes>"
      ]
     },
     "metadata": {
      "needs_background": "light"
     },
     "output_type": "display_data"
    }
   ],
   "source": [
    "# Divide the plot into a 10 x 8 grid, and allow only one distractor in each grid\n",
    "image_size = [1280, 1024]\n",
    "grid_size = [10, 8]\n",
    "\n",
    "grid_size_pixels_x  = image_size[0] / grid_size[0]\n",
    "grid_size_pixels_y  = image_size[1] / grid_size[1]\n",
    "x_c = np.arange(grid_size_pixels_x / 2.0, image_size[0], grid_size_pixels_x)\n",
    "y_c = np.arange(grid_size_pixels_y / 2.0, image_size[1], grid_size_pixels_y)\n",
    "\n",
    "# Plot the positions of the new grid\n",
    "xx = np.ones(len(x_c))\n",
    "yy = np.ones(len(y_c))\n",
    "plt.plot(x_c, xx, 'ro')\n",
    "plt.plot(yy, y_c, 'bo')\n",
    "# plt.axis([0, image_size[0], 0, image_size[1]])\n",
    "plt.show()\n"
   ]
  },
  {
   "cell_type": "markdown",
   "metadata": {},
   "source": [
    "New problem. Seems like only the x-, and y-, coordinates of the grid elements were defined, but not the locations for ALL grid elements. How can this be done?"
   ]
  },
  {
   "cell_type": "code",
   "execution_count": 3,
   "metadata": {},
   "outputs": [
    {
     "data": {
      "image/png": "[encoded data removed]",
      "text/plain": [
       "<Figure size 432x288 with 1 Axes>"
      ]
     },
     "metadata": {
      "needs_background": "light"
     },
     "output_type": "display_data"
    }
   ],
   "source": [
    "# Meshgrid creats the whole grid (you could also use a double for-)\n",
    "x_all, y_all = np.meshgrid(x_c, y_c)\n",
    "\n",
    "# Reshape the positions into a N x 2 array (N rows, 2 columns), to make it easier to work with later\n",
    "xy_all = np.vstack((x_all.flatten(), y_all.flatten())).T\n",
    "\n",
    "# Plot all grid elements\n",
    "plt.figure()\n",
    "plt.plot(xy_all[:, 0], xy_all[:, 1], 'g+')\n",
    "plt.show()"
   ]
  },
  {
   "cell_type": "markdown",
   "metadata": {},
   "source": [
    "Now we know where distractors can be placed. But we don't want to put a distractor at each grid position, but draw a number of them (say 10) at random. One way to do this is the 'shuffle' the array, and then select the 10 first elements."
   ]
  },
  {
   "cell_type": "code",
   "execution_count": 4,
   "metadata": {},
   "outputs": [
    {
     "data": {
      "image/png": "[encoded data removed]",
      "text/plain": [
       "<Figure size 432x288 with 1 Axes>"
      ]
     },
     "metadata": {
      "needs_background": "light"
     },
     "output_type": "display_data"
    }
   ],
   "source": [
    "import time # Used to animate below\n",
    "nSelect = 10\n",
    "\n",
    "# Randomly change the positions of the locations in the array\n",
    "np.random.shuffle(xy_all)\n",
    "\n",
    "# Plot the result (looks much better!)\n",
    "plt.scatter(xy_all[:nSelect, 0], xy_all[:nSelect, 1], s=distractor_size ,c='r',marker='v')\n",
    "plt.axis([0, image_size[0], 0, image_size[1]])\n",
    "plt.show()"
   ]
  },
  {
   "cell_type": "markdown",
   "metadata": {},
   "source": [
    "### Dictionaries\n",
    "In the assigment, dictionaries will be used as containers of information about the background, target, and distractors. A dictionary is just like it sounds; given a key (-word), it returns whatever is behind the door the key opens (a number, string, or any other python object). "
   ]
  },
  {
   "cell_type": "code",
   "execution_count": 5,
   "metadata": {},
   "outputs": [
    {
     "name": "stdout",
     "output_type": "stream",
     "text": [
      "my_value2\n"
     ]
    }
   ],
   "source": [
    "# Example of how dictionaries are defined...\n",
    "d1 = {'key1': 4, 'key2': 'my_value2'}\n",
    "\n",
    "#... and how the values are accessed from them\n",
    "print(d1['key2'])\n",
    "\n",
    "# Unlike lists and arrays, variables in dictionaries are not ordered, so you can't do, e.g., \n",
    "# print(d1[0])"
   ]
  },
  {
   "cell_type": "markdown",
   "metadata": {},
   "source": [
    "In this assignment, the dictionaries contain information about the visual search images"
   ]
  },
  {
   "cell_type": "code",
   "execution_count": 6,
   "metadata": {},
   "outputs": [
    {
     "name": "stdout",
     "output_type": "stream",
     "text": [
      "0.5 10\n"
     ]
    }
   ],
   "source": [
    "# Specify the size and color of the background. Use a dictionary\n",
    "background = {'size':np.array([1280, 1024]),'color':0.5} # zero - black, 1 - white\n",
    "\n",
    "# Specify the target\n",
    "target = {'shape':'^', 'size':10, 'color':'r', 'face_color':'r'}\n",
    "\n",
    "# Specify the distractors\n",
    "distractor = {'shape':'o', 'size':10, 'color':'b', 'number_of':10}\n",
    "\n",
    "# Test prints\n",
    "print(background['color'], distractor['size'])"
   ]
  },
  {
   "cell_type": "code",
   "execution_count": null,
   "metadata": {},
   "outputs": [],
   "source": []
  }
 ],
 "metadata": {
  "kernelspec": {
   "display_name": "Python 3",
   "language": "python",
   "name": "python3"
  },
  "language_info": {
   "codemirror_mode": {
    "name": "ipython",
    "version": 3
   },
   "file_extension": ".py",
   "mimetype": "text/x-python",
   "name": "python",
   "nbconvert_exporter": "python",
   "pygments_lexer": "ipython3",
   "version": "3.6.9"
  }
 },
 "nbformat": 4,
 "nbformat_minor": 2
}
